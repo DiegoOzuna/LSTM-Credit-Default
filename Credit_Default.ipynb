{
 "cells": [
  {
   "cell_type": "code",
   "execution_count": 1,
   "metadata": {},
   "outputs": [],
   "source": [
    "import pandas as pd\n",
    "import sklearn as scikit\n",
    "import tensorflow as tf\n",
    "import matplotlib.pyplot as plt"
   ]
  },
  {
   "cell_type": "code",
   "execution_count": 2,
   "metadata": {},
   "outputs": [],
   "source": [
    "#Initialize data to be from the excel sheet\n",
    "file_name = \"default of credit card clients.xls\"\n",
    "raw_data = pd.read_excel(file_name)"
   ]
  },
  {
   "cell_type": "code",
   "execution_count": 3,
   "metadata": {},
   "outputs": [
    {
     "name": "stdout",
     "output_type": "stream",
     "text": [
      "      Unnamed: 0         X1   X2         X3        X4   X5     X6     X7  \\\n",
      "0             ID  LIMIT_BAL  SEX  EDUCATION  MARRIAGE  AGE  PAY_0  PAY_2   \n",
      "1              1      20000    2          2         1   24      2      2   \n",
      "2              2     120000    2          2         2   26     -1      2   \n",
      "3              3      90000    2          2         2   34      0      0   \n",
      "4              4      50000    2          2         1   37      0      0   \n",
      "...          ...        ...  ...        ...       ...  ...    ...    ...   \n",
      "29996      29996     220000    1          3         1   39      0      0   \n",
      "29997      29997     150000    1          3         2   43     -1     -1   \n",
      "29998      29998      30000    1          2         2   37      4      3   \n",
      "29999      29999      80000    1          3         1   41      1     -1   \n",
      "30000      30000      50000    1          2         1   46      0      0   \n",
      "\n",
      "          X8     X9  ...        X15        X16        X17       X18       X19  \\\n",
      "0      PAY_3  PAY_4  ...  BILL_AMT4  BILL_AMT5  BILL_AMT6  PAY_AMT1  PAY_AMT2   \n",
      "1         -1     -1  ...          0          0          0         0       689   \n",
      "2          0      0  ...       3272       3455       3261         0      1000   \n",
      "3          0      0  ...      14331      14948      15549      1518      1500   \n",
      "4          0      0  ...      28314      28959      29547      2000      2019   \n",
      "...      ...    ...  ...        ...        ...        ...       ...       ...   \n",
      "29996      0      0  ...      88004      31237      15980      8500     20000   \n",
      "29997     -1     -1  ...       8979       5190          0      1837      3526   \n",
      "29998      2     -1  ...      20878      20582      19357         0         0   \n",
      "29999      0      0  ...      52774      11855      48944     85900      3409   \n",
      "30000      0      0  ...      36535      32428      15313      2078      1800   \n",
      "\n",
      "            X20       X21       X22       X23                           Y  \n",
      "0      PAY_AMT3  PAY_AMT4  PAY_AMT5  PAY_AMT6  default payment next month  \n",
      "1             0         0         0         0                           1  \n",
      "2          1000      1000         0      2000                           1  \n",
      "3          1000      1000      1000      5000                           0  \n",
      "4          1200      1100      1069      1000                           0  \n",
      "...         ...       ...       ...       ...                         ...  \n",
      "29996      5003      3047      5000      1000                           0  \n",
      "29997      8998       129         0         0                           0  \n",
      "29998     22000      4200      2000      3100                           1  \n",
      "29999      1178      1926     52964      1804                           1  \n",
      "30000      1430      1000      1000      1000                           1  \n",
      "\n",
      "[30001 rows x 25 columns]\n"
     ]
    }
   ],
   "source": [
    "print(raw_data)"
   ]
  },
  {
   "cell_type": "markdown",
   "metadata": {},
   "source": [
    "NOTE: Our original data has the labels underneath arbitrary x1,x2,...xn labels. We will omit fix the formate of the dataframe first to have the proper labels in the dataframe."
   ]
  },
  {
   "cell_type": "code",
   "execution_count": 4,
   "metadata": {},
   "outputs": [
    {
     "data": {
      "text/html": [
       "<div>\n",
       "<style scoped>\n",
       "    .dataframe tbody tr th:only-of-type {\n",
       "        vertical-align: middle;\n",
       "    }\n",
       "\n",
       "    .dataframe tbody tr th {\n",
       "        vertical-align: top;\n",
       "    }\n",
       "\n",
       "    .dataframe thead th {\n",
       "        text-align: right;\n",
       "    }\n",
       "</style>\n",
       "<table border=\"1\" class=\"dataframe\">\n",
       "  <thead>\n",
       "    <tr style=\"text-align: right;\">\n",
       "      <th></th>\n",
       "      <th>LIMIT_BAL</th>\n",
       "      <th>SEX</th>\n",
       "      <th>EDUCATION</th>\n",
       "      <th>MARRIAGE</th>\n",
       "      <th>AGE</th>\n",
       "      <th>PAY_0</th>\n",
       "      <th>PAY_2</th>\n",
       "      <th>PAY_3</th>\n",
       "      <th>PAY_4</th>\n",
       "      <th>PAY_5</th>\n",
       "      <th>...</th>\n",
       "      <th>BILL_AMT4</th>\n",
       "      <th>BILL_AMT5</th>\n",
       "      <th>BILL_AMT6</th>\n",
       "      <th>PAY_AMT1</th>\n",
       "      <th>PAY_AMT2</th>\n",
       "      <th>PAY_AMT3</th>\n",
       "      <th>PAY_AMT4</th>\n",
       "      <th>PAY_AMT5</th>\n",
       "      <th>PAY_AMT6</th>\n",
       "      <th>default payment next month</th>\n",
       "    </tr>\n",
       "  </thead>\n",
       "  <tbody>\n",
       "    <tr>\n",
       "      <th>1</th>\n",
       "      <td>20000</td>\n",
       "      <td>2</td>\n",
       "      <td>2</td>\n",
       "      <td>1</td>\n",
       "      <td>24</td>\n",
       "      <td>2</td>\n",
       "      <td>2</td>\n",
       "      <td>-1</td>\n",
       "      <td>-1</td>\n",
       "      <td>-2</td>\n",
       "      <td>...</td>\n",
       "      <td>0</td>\n",
       "      <td>0</td>\n",
       "      <td>0</td>\n",
       "      <td>0</td>\n",
       "      <td>689</td>\n",
       "      <td>0</td>\n",
       "      <td>0</td>\n",
       "      <td>0</td>\n",
       "      <td>0</td>\n",
       "      <td>1</td>\n",
       "    </tr>\n",
       "    <tr>\n",
       "      <th>2</th>\n",
       "      <td>120000</td>\n",
       "      <td>2</td>\n",
       "      <td>2</td>\n",
       "      <td>2</td>\n",
       "      <td>26</td>\n",
       "      <td>-1</td>\n",
       "      <td>2</td>\n",
       "      <td>0</td>\n",
       "      <td>0</td>\n",
       "      <td>0</td>\n",
       "      <td>...</td>\n",
       "      <td>3272</td>\n",
       "      <td>3455</td>\n",
       "      <td>3261</td>\n",
       "      <td>0</td>\n",
       "      <td>1000</td>\n",
       "      <td>1000</td>\n",
       "      <td>1000</td>\n",
       "      <td>0</td>\n",
       "      <td>2000</td>\n",
       "      <td>1</td>\n",
       "    </tr>\n",
       "    <tr>\n",
       "      <th>3</th>\n",
       "      <td>90000</td>\n",
       "      <td>2</td>\n",
       "      <td>2</td>\n",
       "      <td>2</td>\n",
       "      <td>34</td>\n",
       "      <td>0</td>\n",
       "      <td>0</td>\n",
       "      <td>0</td>\n",
       "      <td>0</td>\n",
       "      <td>0</td>\n",
       "      <td>...</td>\n",
       "      <td>14331</td>\n",
       "      <td>14948</td>\n",
       "      <td>15549</td>\n",
       "      <td>1518</td>\n",
       "      <td>1500</td>\n",
       "      <td>1000</td>\n",
       "      <td>1000</td>\n",
       "      <td>1000</td>\n",
       "      <td>5000</td>\n",
       "      <td>0</td>\n",
       "    </tr>\n",
       "    <tr>\n",
       "      <th>4</th>\n",
       "      <td>50000</td>\n",
       "      <td>2</td>\n",
       "      <td>2</td>\n",
       "      <td>1</td>\n",
       "      <td>37</td>\n",
       "      <td>0</td>\n",
       "      <td>0</td>\n",
       "      <td>0</td>\n",
       "      <td>0</td>\n",
       "      <td>0</td>\n",
       "      <td>...</td>\n",
       "      <td>28314</td>\n",
       "      <td>28959</td>\n",
       "      <td>29547</td>\n",
       "      <td>2000</td>\n",
       "      <td>2019</td>\n",
       "      <td>1200</td>\n",
       "      <td>1100</td>\n",
       "      <td>1069</td>\n",
       "      <td>1000</td>\n",
       "      <td>0</td>\n",
       "    </tr>\n",
       "    <tr>\n",
       "      <th>5</th>\n",
       "      <td>50000</td>\n",
       "      <td>1</td>\n",
       "      <td>2</td>\n",
       "      <td>1</td>\n",
       "      <td>57</td>\n",
       "      <td>-1</td>\n",
       "      <td>0</td>\n",
       "      <td>-1</td>\n",
       "      <td>0</td>\n",
       "      <td>0</td>\n",
       "      <td>...</td>\n",
       "      <td>20940</td>\n",
       "      <td>19146</td>\n",
       "      <td>19131</td>\n",
       "      <td>2000</td>\n",
       "      <td>36681</td>\n",
       "      <td>10000</td>\n",
       "      <td>9000</td>\n",
       "      <td>689</td>\n",
       "      <td>679</td>\n",
       "      <td>0</td>\n",
       "    </tr>\n",
       "    <tr>\n",
       "      <th>...</th>\n",
       "      <td>...</td>\n",
       "      <td>...</td>\n",
       "      <td>...</td>\n",
       "      <td>...</td>\n",
       "      <td>...</td>\n",
       "      <td>...</td>\n",
       "      <td>...</td>\n",
       "      <td>...</td>\n",
       "      <td>...</td>\n",
       "      <td>...</td>\n",
       "      <td>...</td>\n",
       "      <td>...</td>\n",
       "      <td>...</td>\n",
       "      <td>...</td>\n",
       "      <td>...</td>\n",
       "      <td>...</td>\n",
       "      <td>...</td>\n",
       "      <td>...</td>\n",
       "      <td>...</td>\n",
       "      <td>...</td>\n",
       "      <td>...</td>\n",
       "    </tr>\n",
       "    <tr>\n",
       "      <th>29996</th>\n",
       "      <td>220000</td>\n",
       "      <td>1</td>\n",
       "      <td>3</td>\n",
       "      <td>1</td>\n",
       "      <td>39</td>\n",
       "      <td>0</td>\n",
       "      <td>0</td>\n",
       "      <td>0</td>\n",
       "      <td>0</td>\n",
       "      <td>0</td>\n",
       "      <td>...</td>\n",
       "      <td>88004</td>\n",
       "      <td>31237</td>\n",
       "      <td>15980</td>\n",
       "      <td>8500</td>\n",
       "      <td>20000</td>\n",
       "      <td>5003</td>\n",
       "      <td>3047</td>\n",
       "      <td>5000</td>\n",
       "      <td>1000</td>\n",
       "      <td>0</td>\n",
       "    </tr>\n",
       "    <tr>\n",
       "      <th>29997</th>\n",
       "      <td>150000</td>\n",
       "      <td>1</td>\n",
       "      <td>3</td>\n",
       "      <td>2</td>\n",
       "      <td>43</td>\n",
       "      <td>-1</td>\n",
       "      <td>-1</td>\n",
       "      <td>-1</td>\n",
       "      <td>-1</td>\n",
       "      <td>0</td>\n",
       "      <td>...</td>\n",
       "      <td>8979</td>\n",
       "      <td>5190</td>\n",
       "      <td>0</td>\n",
       "      <td>1837</td>\n",
       "      <td>3526</td>\n",
       "      <td>8998</td>\n",
       "      <td>129</td>\n",
       "      <td>0</td>\n",
       "      <td>0</td>\n",
       "      <td>0</td>\n",
       "    </tr>\n",
       "    <tr>\n",
       "      <th>29998</th>\n",
       "      <td>30000</td>\n",
       "      <td>1</td>\n",
       "      <td>2</td>\n",
       "      <td>2</td>\n",
       "      <td>37</td>\n",
       "      <td>4</td>\n",
       "      <td>3</td>\n",
       "      <td>2</td>\n",
       "      <td>-1</td>\n",
       "      <td>0</td>\n",
       "      <td>...</td>\n",
       "      <td>20878</td>\n",
       "      <td>20582</td>\n",
       "      <td>19357</td>\n",
       "      <td>0</td>\n",
       "      <td>0</td>\n",
       "      <td>22000</td>\n",
       "      <td>4200</td>\n",
       "      <td>2000</td>\n",
       "      <td>3100</td>\n",
       "      <td>1</td>\n",
       "    </tr>\n",
       "    <tr>\n",
       "      <th>29999</th>\n",
       "      <td>80000</td>\n",
       "      <td>1</td>\n",
       "      <td>3</td>\n",
       "      <td>1</td>\n",
       "      <td>41</td>\n",
       "      <td>1</td>\n",
       "      <td>-1</td>\n",
       "      <td>0</td>\n",
       "      <td>0</td>\n",
       "      <td>0</td>\n",
       "      <td>...</td>\n",
       "      <td>52774</td>\n",
       "      <td>11855</td>\n",
       "      <td>48944</td>\n",
       "      <td>85900</td>\n",
       "      <td>3409</td>\n",
       "      <td>1178</td>\n",
       "      <td>1926</td>\n",
       "      <td>52964</td>\n",
       "      <td>1804</td>\n",
       "      <td>1</td>\n",
       "    </tr>\n",
       "    <tr>\n",
       "      <th>30000</th>\n",
       "      <td>50000</td>\n",
       "      <td>1</td>\n",
       "      <td>2</td>\n",
       "      <td>1</td>\n",
       "      <td>46</td>\n",
       "      <td>0</td>\n",
       "      <td>0</td>\n",
       "      <td>0</td>\n",
       "      <td>0</td>\n",
       "      <td>0</td>\n",
       "      <td>...</td>\n",
       "      <td>36535</td>\n",
       "      <td>32428</td>\n",
       "      <td>15313</td>\n",
       "      <td>2078</td>\n",
       "      <td>1800</td>\n",
       "      <td>1430</td>\n",
       "      <td>1000</td>\n",
       "      <td>1000</td>\n",
       "      <td>1000</td>\n",
       "      <td>1</td>\n",
       "    </tr>\n",
       "  </tbody>\n",
       "</table>\n",
       "<p>30000 rows × 24 columns</p>\n",
       "</div>"
      ],
      "text/plain": [
       "0     LIMIT_BAL SEX EDUCATION MARRIAGE AGE PAY_0 PAY_2 PAY_3 PAY_4 PAY_5  ...  \\\n",
       "1         20000   2         2        1  24     2     2    -1    -1    -2  ...   \n",
       "2        120000   2         2        2  26    -1     2     0     0     0  ...   \n",
       "3         90000   2         2        2  34     0     0     0     0     0  ...   \n",
       "4         50000   2         2        1  37     0     0     0     0     0  ...   \n",
       "5         50000   1         2        1  57    -1     0    -1     0     0  ...   \n",
       "...         ...  ..       ...      ...  ..   ...   ...   ...   ...   ...  ...   \n",
       "29996    220000   1         3        1  39     0     0     0     0     0  ...   \n",
       "29997    150000   1         3        2  43    -1    -1    -1    -1     0  ...   \n",
       "29998     30000   1         2        2  37     4     3     2    -1     0  ...   \n",
       "29999     80000   1         3        1  41     1    -1     0     0     0  ...   \n",
       "30000     50000   1         2        1  46     0     0     0     0     0  ...   \n",
       "\n",
       "0     BILL_AMT4 BILL_AMT5 BILL_AMT6 PAY_AMT1 PAY_AMT2 PAY_AMT3 PAY_AMT4  \\\n",
       "1             0         0         0        0      689        0        0   \n",
       "2          3272      3455      3261        0     1000     1000     1000   \n",
       "3         14331     14948     15549     1518     1500     1000     1000   \n",
       "4         28314     28959     29547     2000     2019     1200     1100   \n",
       "5         20940     19146     19131     2000    36681    10000     9000   \n",
       "...         ...       ...       ...      ...      ...      ...      ...   \n",
       "29996     88004     31237     15980     8500    20000     5003     3047   \n",
       "29997      8979      5190         0     1837     3526     8998      129   \n",
       "29998     20878     20582     19357        0        0    22000     4200   \n",
       "29999     52774     11855     48944    85900     3409     1178     1926   \n",
       "30000     36535     32428     15313     2078     1800     1430     1000   \n",
       "\n",
       "0     PAY_AMT5 PAY_AMT6 default payment next month  \n",
       "1            0        0                          1  \n",
       "2            0     2000                          1  \n",
       "3         1000     5000                          0  \n",
       "4         1069     1000                          0  \n",
       "5          689      679                          0  \n",
       "...        ...      ...                        ...  \n",
       "29996     5000     1000                          0  \n",
       "29997        0        0                          0  \n",
       "29998     2000     3100                          1  \n",
       "29999    52964     1804                          1  \n",
       "30000     1000     1000                          1  \n",
       "\n",
       "[30000 rows x 24 columns]"
      ]
     },
     "execution_count": 4,
     "metadata": {},
     "output_type": "execute_result"
    }
   ],
   "source": [
    "# Format of data frame is configured incorrectly. We will fix format here...\n",
    "# Fixing the dataframes labels...\n",
    "raw_data.columns = raw_data.iloc[0]\n",
    "# Removing labels from being within the dataframe...\n",
    "raw_data = raw_data.iloc[1:,:]\n",
    "#Removing first column ID from within the dataframe as not relevent to our models\n",
    "raw_data = raw_data.iloc[:,1:]\n",
    "\n",
    "\n",
    "raw_data"
   ]
  },
  {
   "cell_type": "markdown",
   "metadata": {},
   "source": [
    "Now with our data initialized, lets take a moment to explore the distribution of our classes"
   ]
  },
  {
   "cell_type": "code",
   "execution_count": 5,
   "metadata": {},
   "outputs": [],
   "source": [
    "# Define a function to plot the distribution of a column\n",
    "def plot_distribution(df, column):\n",
    "    # Get the number of unique values in the column\n",
    "    num_unique_values = df[column].nunique()\n",
    "    df[column].hist(bins=num_unique_values, figsize=(10,5))\n",
    "    plt.xlabel(column)\n",
    "    plt.ylabel('Number of people')\n",
    "    plt.title(f'Distribution of {column}')\n",
    "    plt.show()"
   ]
  },
  {
   "cell_type": "code",
   "execution_count": 6,
   "metadata": {},
   "outputs": [
    {
     "data": {
      "image/png": "[encoded data removed]",
      "text/plain": [
       "<Figure size 1000x500 with 1 Axes>"
      ]
     },
     "metadata": {},
     "output_type": "display_data"
    },
    {
     "data": {
      "image/png": "[encoded data removed]",
      "text/plain": [
       "<Figure size 1000x500 with 1 Axes>"
      ]
     },
     "metadata": {},
     "output_type": "display_data"
    },
    {
     "data": {
      "image/png": "[encoded data removed]",
      "text/plain": [
       "<Figure size 1000x500 with 1 Axes>"
      ]
     },
     "metadata": {},
     "output_type": "display_data"
    },
    {
     "data": {
      "image/png": "[encoded data removed]",
      "text/plain": [
       "<Figure size 1000x500 with 1 Axes>"
      ]
     },
     "metadata": {},
     "output_type": "display_data"
    },
    {
     "data": {
      "image/png": "[encoded data removed]",
      "text/plain": [
       "<Figure size 1000x500 with 1 Axes>"
      ]
     },
     "metadata": {},
     "output_type": "display_data"
    },
    {
     "data": {
      "image/png": "[encoded data removed]",
      "text/plain": [
       "<Figure size 1000x500 with 1 Axes>"
      ]
     },
     "metadata": {},
     "output_type": "display_data"
    }
   ],
   "source": [
    "plot_distribution(raw_data, 'LIMIT_BAL') # limit_balance\n",
    "plot_distribution(raw_data, 'SEX') # sex\n",
    "plot_distribution(raw_data, 'EDUCATION') # Education\n",
    "plot_distribution(raw_data, 'MARRIAGE') # Marriage\n",
    "plot_distribution(raw_data, 'AGE') # Age\n",
    "plot_distribution(raw_data, 'default payment next month') #default"
   ]
  },
  {
   "cell_type": "markdown",
   "metadata": {},
   "source": [
    "We can see that our data is imbalanced and has a skewed nature to it. We should try different methods to get a better representation to work on. However, for now let us work with the entire data frame to gain a reference."
   ]
  },
  {
   "cell_type": "markdown",
   "metadata": {},
   "source": [
    "Let us do simple preprocessing to get our split datasets ready."
   ]
  },
  {
   "cell_type": "code",
   "execution_count": 7,
   "metadata": {},
   "outputs": [],
   "source": [
    "from sklearn.model_selection import train_test_split\n",
    "\n",
    "# Assuming raw_data is your DataFrame and `defalut payment next month` is the target variable\n",
    "X = raw_data.drop('default payment next month', axis=1)\n",
    "y = raw_data['default payment next month']\n",
    "\n",
    "# Split the data into training, validation, and test sets\n",
    "X_train_temp, X_test, y_train_temp, y_test = train_test_split(X, y, test_size=0.2, random_state=0)\n",
    "X_train, X_val, y_train, y_val = train_test_split(X_train_temp, y_train_temp, test_size=0.25, random_state=0) # 0.25 x 0.8 = 0.2\n",
    "\n",
    "# Split the training set into demographic and time series data\n",
    "X_demographic_train = X_train[['SEX', 'EDUCATION', 'MARRIAGE', 'AGE']]\n",
    "X_time_series_train = X_train.drop(['SEX', 'EDUCATION', 'MARRIAGE', 'AGE'], axis=1)\n",
    "\n",
    "# Reshape time series training data to be 3D for the LSTM (samples, timesteps, features)\n",
    "X_time_series_train = X_time_series_train.values.reshape(X_time_series_train.shape[0], X_time_series_train.shape[1], 1)\n",
    "\n",
    "# Do the same for the validation set\n",
    "X_demographic_val = X_val[['SEX', 'EDUCATION', 'MARRIAGE', 'AGE']]\n",
    "X_time_series_val = X_val.drop(['SEX', 'EDUCATION', 'MARRIAGE', 'AGE'], axis=1)\n",
    "X_time_series_val = X_time_series_val.values.reshape(X_time_series_val.shape[0], X_time_series_val.shape[1], 1)\n",
    "\n",
    "# And the test set\n",
    "X_demographic_test = X_test[['SEX', 'EDUCATION', 'MARRIAGE', 'AGE']]\n",
    "X_time_series_test = X_test.drop(['SEX', 'EDUCATION', 'MARRIAGE', 'AGE'], axis=1)\n",
    "X_time_series_test = X_time_series_test.values.reshape(X_time_series_test.shape[0], X_time_series_test.shape[1], 1)"
   ]
  },
  {
   "cell_type": "code",
   "execution_count": 8,
   "metadata": {},
   "outputs": [],
   "source": [
    "# Convert the frame to float32 to work with neural networks\n",
    "X_time_series_train = X_time_series_train.astype('float32')\n",
    "X_demographic_train = X_demographic_train.astype('float32')\n",
    "X_time_series_val = X_time_series_val.astype('float32')\n",
    "X_demographic_val = X_demographic_val.astype('float32')\n",
    "y_train = y_train.astype('float32')\n",
    "y_val = y_val.astype('float32')\n",
    "\n",
    "X_time_series_test = X_time_series_test.astype('float32')\n",
    "X_demographic_test = X_demographic_test.astype('float32')\n",
    "y_test = y_test.astype('float32')\n"
   ]
  },
  {
   "cell_type": "code",
   "execution_count": 9,
   "metadata": {},
   "outputs": [],
   "source": [
    "from tensorflow.keras.models import Sequential\n",
    "from tensorflow.keras.layers import LSTM, Dense, SimpleRNN"
   ]
  },
  {
   "cell_type": "code",
   "execution_count": 10,
   "metadata": {},
   "outputs": [
    {
     "name": "stdout",
     "output_type": "stream",
     "text": [
      "Epoch 1/10\n"
     ]
    },
    {
     "name": "stderr",
     "output_type": "stream",
     "text": [
      "C:\\Users\\godha\\AppData\\Roaming\\Python\\Python312\\site-packages\\keras\\src\\layers\\rnn\\rnn.py:204: UserWarning: Do not pass an `input_shape`/`input_dim` argument to a layer. When using Sequential models, prefer using an `Input(shape)` object as the first layer in the model instead.\n",
      "  super().__init__(**kwargs)\n"
     ]
    },
    {
     "name": "stdout",
     "output_type": "stream",
     "text": [
      "\u001b[1m563/563\u001b[0m \u001b[32m━━━━━━━━━━━━━━━━━━━━\u001b[0m\u001b[37m\u001b[0m \u001b[1m3s\u001b[0m 3ms/step - accuracy: 0.7958 - loss: 0.4970 - val_accuracy: 0.8092 - val_loss: 0.4553\n",
      "Epoch 2/10\n",
      "\u001b[1m563/563\u001b[0m \u001b[32m━━━━━━━━━━━━━━━━━━━━\u001b[0m\u001b[37m\u001b[0m \u001b[1m2s\u001b[0m 3ms/step - accuracy: 0.7968 - loss: 0.4743 - val_accuracy: 0.8088 - val_loss: 0.4540\n",
      "Epoch 3/10\n",
      "\u001b[1m563/563\u001b[0m \u001b[32m━━━━━━━━━━━━━━━━━━━━\u001b[0m\u001b[37m\u001b[0m \u001b[1m2s\u001b[0m 3ms/step - accuracy: 0.8065 - loss: 0.4620 - val_accuracy: 0.7820 - val_loss: 0.4780\n",
      "Epoch 4/10\n",
      "\u001b[1m563/563\u001b[0m \u001b[32m━━━━━━━━━━━━━━━━━━━━\u001b[0m\u001b[37m\u001b[0m \u001b[1m2s\u001b[0m 3ms/step - accuracy: 0.8001 - loss: 0.4617 - val_accuracy: 0.8090 - val_loss: 0.4502\n",
      "Epoch 5/10\n",
      "\u001b[1m563/563\u001b[0m \u001b[32m━━━━━━━━━━━━━━━━━━━━\u001b[0m\u001b[37m\u001b[0m \u001b[1m2s\u001b[0m 3ms/step - accuracy: 0.8131 - loss: 0.4506 - val_accuracy: 0.8117 - val_loss: 0.4466\n",
      "Epoch 6/10\n",
      "\u001b[1m563/563\u001b[0m \u001b[32m━━━━━━━━━━━━━━━━━━━━\u001b[0m\u001b[37m\u001b[0m \u001b[1m2s\u001b[0m 3ms/step - accuracy: 0.8016 - loss: 0.4603 - val_accuracy: 0.8083 - val_loss: 0.4523\n",
      "Epoch 7/10\n",
      "\u001b[1m563/563\u001b[0m \u001b[32m━━━━━━━━━━━━━━━━━━━━\u001b[0m\u001b[37m\u001b[0m \u001b[1m2s\u001b[0m 3ms/step - accuracy: 0.8109 - loss: 0.4615 - val_accuracy: 0.8063 - val_loss: 0.4512\n",
      "Epoch 8/10\n",
      "\u001b[1m563/563\u001b[0m \u001b[32m━━━━━━━━━━━━━━━━━━━━\u001b[0m\u001b[37m\u001b[0m \u001b[1m2s\u001b[0m 3ms/step - accuracy: 0.8083 - loss: 0.4617 - val_accuracy: 0.8117 - val_loss: 0.4460\n",
      "Epoch 9/10\n",
      "\u001b[1m563/563\u001b[0m \u001b[32m━━━━━━━━━━━━━━━━━━━━\u001b[0m\u001b[37m\u001b[0m \u001b[1m2s\u001b[0m 3ms/step - accuracy: 0.8116 - loss: 0.4553 - val_accuracy: 0.8078 - val_loss: 0.4511\n",
      "Epoch 10/10\n",
      "\u001b[1m563/563\u001b[0m \u001b[32m━━━━━━━━━━━━━━━━━━━━\u001b[0m\u001b[37m\u001b[0m \u001b[1m2s\u001b[0m 3ms/step - accuracy: 0.8064 - loss: 0.4623 - val_accuracy: 0.8158 - val_loss: 0.4534\n"
     ]
    },
    {
     "data": {
      "text/plain": [
       "<keras.src.callbacks.history.History at 0x291f6211160>"
      ]
     },
     "execution_count": 10,
     "metadata": {},
     "output_type": "execute_result"
    }
   ],
   "source": [
    "# Define the model: This will be LSTM using all data...\n",
    "model = Sequential()\n",
    "\n",
    "# Add LSTM layer\n",
    "# Adjust the units and dropout according to your data\n",
    "model.add(LSTM(units=50, dropout=0.2, input_shape=(X_time_series_train.shape[1], 1)))\n",
    "\n",
    "# Add Dense layer for demographic data\n",
    "model.add(Dense(units=X_demographic_train.shape[1]))\n",
    "\n",
    "# Add final Dense layer for binary classification\n",
    "model.add(Dense(1, activation='sigmoid'))\n",
    "\n",
    "# Compile the model\n",
    "model.compile(optimizer='adam', loss='binary_crossentropy', metrics=['accuracy'])\n",
    "\n",
    "# Fit the model\n",
    "# Adjust the batch size and epochs according to your data\n",
    "model.fit([X_time_series_train, X_demographic_train], y_train, validation_data=([X_time_series_val, X_demographic_val], y_val), batch_size=32, epochs=10)"
   ]
  },
  {
   "cell_type": "code",
   "execution_count": 11,
   "metadata": {},
   "outputs": [
    {
     "name": "stdout",
     "output_type": "stream",
     "text": [
      "Epoch 1/10\n"
     ]
    },
    {
     "name": "stderr",
     "output_type": "stream",
     "text": [
      "C:\\Users\\godha\\AppData\\Roaming\\Python\\Python312\\site-packages\\keras\\src\\layers\\rnn\\rnn.py:204: UserWarning: Do not pass an `input_shape`/`input_dim` argument to a layer. When using Sequential models, prefer using an `Input(shape)` object as the first layer in the model instead.\n",
      "  super().__init__(**kwargs)\n"
     ]
    },
    {
     "name": "stdout",
     "output_type": "stream",
     "text": [
      "\u001b[1m563/563\u001b[0m \u001b[32m━━━━━━━━━━━━━━━━━━━━\u001b[0m\u001b[37m\u001b[0m \u001b[1m2s\u001b[0m 2ms/step - accuracy: 0.7800 - loss: 0.5286 - val_accuracy: 0.7817 - val_loss: 0.5235\n",
      "Epoch 2/10\n",
      "\u001b[1m563/563\u001b[0m \u001b[32m━━━━━━━━━━━━━━━━━━━━\u001b[0m\u001b[37m\u001b[0m \u001b[1m1s\u001b[0m 1ms/step - accuracy: 0.7810 - loss: 0.5245 - val_accuracy: 0.7818 - val_loss: 0.5197\n",
      "Epoch 3/10\n",
      "\u001b[1m563/563\u001b[0m \u001b[32m━━━━━━━━━━━━━━━━━━━━\u001b[0m\u001b[37m\u001b[0m \u001b[1m1s\u001b[0m 1ms/step - accuracy: 0.7748 - loss: 0.5301 - val_accuracy: 0.7818 - val_loss: 0.5204\n",
      "Epoch 4/10\n",
      "\u001b[1m563/563\u001b[0m \u001b[32m━━━━━━━━━━━━━━━━━━━━\u001b[0m\u001b[37m\u001b[0m \u001b[1m1s\u001b[0m 1ms/step - accuracy: 0.7821 - loss: 0.5243 - val_accuracy: 0.7818 - val_loss: 0.5203\n",
      "Epoch 5/10\n",
      "\u001b[1m563/563\u001b[0m \u001b[32m━━━━━━━━━━━━━━━━━━━━\u001b[0m\u001b[37m\u001b[0m \u001b[1m1s\u001b[0m 1ms/step - accuracy: 0.7799 - loss: 0.5260 - val_accuracy: 0.7818 - val_loss: 0.5191\n",
      "Epoch 6/10\n",
      "\u001b[1m563/563\u001b[0m \u001b[32m━━━━━━━━━━━━━━━━━━━━\u001b[0m\u001b[37m\u001b[0m \u001b[1m1s\u001b[0m 2ms/step - accuracy: 0.7788 - loss: 0.5272 - val_accuracy: 0.7818 - val_loss: 0.5259\n",
      "Epoch 7/10\n",
      "\u001b[1m563/563\u001b[0m \u001b[32m━━━━━━━━━━━━━━━━━━━━\u001b[0m\u001b[37m\u001b[0m \u001b[1m1s\u001b[0m 1ms/step - accuracy: 0.7779 - loss: 0.5284 - val_accuracy: 0.7818 - val_loss: 0.5289\n",
      "Epoch 8/10\n",
      "\u001b[1m563/563\u001b[0m \u001b[32m━━━━━━━━━━━━━━━━━━━━\u001b[0m\u001b[37m\u001b[0m \u001b[1m1s\u001b[0m 1ms/step - accuracy: 0.7800 - loss: 0.5265 - val_accuracy: 0.7817 - val_loss: 0.5220\n",
      "Epoch 9/10\n",
      "\u001b[1m563/563\u001b[0m \u001b[32m━━━━━━━━━━━━━━━━━━━━\u001b[0m\u001b[37m\u001b[0m \u001b[1m1s\u001b[0m 1ms/step - accuracy: 0.7752 - loss: 0.5313 - val_accuracy: 0.7818 - val_loss: 0.5199\n",
      "Epoch 10/10\n",
      "\u001b[1m563/563\u001b[0m \u001b[32m━━━━━━━━━━━━━━━━━━━━\u001b[0m\u001b[37m\u001b[0m \u001b[1m1s\u001b[0m 2ms/step - accuracy: 0.7778 - loss: 0.5271 - val_accuracy: 0.7818 - val_loss: 0.5194\n"
     ]
    },
    {
     "data": {
      "text/plain": [
       "<keras.src.callbacks.history.History at 0x291f98adc10>"
      ]
     },
     "execution_count": 11,
     "metadata": {},
     "output_type": "execute_result"
    }
   ],
   "source": [
    "# Define the model: This will be RNN using all data...\n",
    "model2 = Sequential()\n",
    "\n",
    "# Add LSTM layer\n",
    "# Adjust the units and dropout according to your data\n",
    "model2.add(SimpleRNN(units=50, dropout=0.2, input_shape=(X_time_series_train.shape[1], 1)))\n",
    "\n",
    "# Add Dense layer for demographic data\n",
    "model2.add(Dense(units=X_demographic_train.shape[1]))\n",
    "\n",
    "# Add final Dense layer for binary classification\n",
    "model2.add(Dense(1, activation='sigmoid'))\n",
    "\n",
    "# Compile the model\n",
    "model2.compile(optimizer='adam', loss='binary_crossentropy', metrics=['accuracy'])\n",
    "\n",
    "# Fit the model\n",
    "# Adjust the batch size and epochs according to your data\n",
    "model2.fit([X_time_series_train, X_demographic_train], y_train, validation_data=([X_time_series_val, X_demographic_val], y_val), batch_size=32, epochs=10)"
   ]
  },
  {
   "cell_type": "code",
   "execution_count": 12,
   "metadata": {},
   "outputs": [
    {
     "name": "stdout",
     "output_type": "stream",
     "text": [
      "Epoch 1/10\n"
     ]
    },
    {
     "name": "stderr",
     "output_type": "stream",
     "text": [
      "C:\\Users\\godha\\AppData\\Roaming\\Python\\Python312\\site-packages\\keras\\src\\layers\\rnn\\rnn.py:204: UserWarning: Do not pass an `input_shape`/`input_dim` argument to a layer. When using Sequential models, prefer using an `Input(shape)` object as the first layer in the model instead.\n",
      "  super().__init__(**kwargs)\n"
     ]
    },
    {
     "name": "stdout",
     "output_type": "stream",
     "text": [
      "\u001b[1m563/563\u001b[0m \u001b[32m━━━━━━━━━━━━━━━━━━━━\u001b[0m\u001b[37m\u001b[0m \u001b[1m3s\u001b[0m 3ms/step - accuracy: 0.7934 - loss: 0.5018 - val_accuracy: 0.8077 - val_loss: 0.4540\n",
      "Epoch 2/10\n",
      "\u001b[1m563/563\u001b[0m \u001b[32m━━━━━━━━━━━━━━━━━━━━\u001b[0m\u001b[37m\u001b[0m \u001b[1m2s\u001b[0m 3ms/step - accuracy: 0.8039 - loss: 0.4710 - val_accuracy: 0.8088 - val_loss: 0.4526\n",
      "Epoch 3/10\n",
      "\u001b[1m563/563\u001b[0m \u001b[32m━━━━━━━━━━━━━━━━━━━━\u001b[0m\u001b[37m\u001b[0m \u001b[1m2s\u001b[0m 3ms/step - accuracy: 0.8097 - loss: 0.4588 - val_accuracy: 0.8067 - val_loss: 0.4576\n",
      "Epoch 4/10\n",
      "\u001b[1m563/563\u001b[0m \u001b[32m━━━━━━━━━━━━━━━━━━━━\u001b[0m\u001b[37m\u001b[0m \u001b[1m2s\u001b[0m 3ms/step - accuracy: 0.8081 - loss: 0.4616 - val_accuracy: 0.8052 - val_loss: 0.4512\n",
      "Epoch 5/10\n",
      "\u001b[1m563/563\u001b[0m \u001b[32m━━━━━━━━━━━━━━━━━━━━\u001b[0m\u001b[37m\u001b[0m \u001b[1m2s\u001b[0m 3ms/step - accuracy: 0.8080 - loss: 0.4602 - val_accuracy: 0.8110 - val_loss: 0.4493\n",
      "Epoch 6/10\n",
      "\u001b[1m563/563\u001b[0m \u001b[32m━━━━━━━━━━━━━━━━━━━━\u001b[0m\u001b[37m\u001b[0m \u001b[1m2s\u001b[0m 3ms/step - accuracy: 0.8135 - loss: 0.4521 - val_accuracy: 0.8157 - val_loss: 0.4483\n",
      "Epoch 7/10\n",
      "\u001b[1m563/563\u001b[0m \u001b[32m━━━━━━━━━━━━━━━━━━━━\u001b[0m\u001b[37m\u001b[0m \u001b[1m2s\u001b[0m 3ms/step - accuracy: 0.8115 - loss: 0.4583 - val_accuracy: 0.8110 - val_loss: 0.4464\n",
      "Epoch 8/10\n",
      "\u001b[1m563/563\u001b[0m \u001b[32m━━━━━━━━━━━━━━━━━━━━\u001b[0m\u001b[37m\u001b[0m \u001b[1m2s\u001b[0m 3ms/step - accuracy: 0.8178 - loss: 0.4497 - val_accuracy: 0.8160 - val_loss: 0.4446\n",
      "Epoch 9/10\n",
      "\u001b[1m563/563\u001b[0m \u001b[32m━━━━━━━━━━━━━━━━━━━━\u001b[0m\u001b[37m\u001b[0m \u001b[1m2s\u001b[0m 3ms/step - accuracy: 0.8050 - loss: 0.4671 - val_accuracy: 0.8163 - val_loss: 0.4453\n",
      "Epoch 10/10\n",
      "\u001b[1m563/563\u001b[0m \u001b[32m━━━━━━━━━━━━━━━━━━━━\u001b[0m\u001b[37m\u001b[0m \u001b[1m2s\u001b[0m 3ms/step - accuracy: 0.8076 - loss: 0.4626 - val_accuracy: 0.8092 - val_loss: 0.4508\n"
     ]
    },
    {
     "data": {
      "text/plain": [
       "<keras.src.callbacks.history.History at 0x291f8dacb30>"
      ]
     },
     "execution_count": 12,
     "metadata": {},
     "output_type": "execute_result"
    }
   ],
   "source": [
    "# Define the model: This will be LSTM using time-series only...\n",
    "model3 = Sequential()\n",
    "\n",
    "# Add LSTM layer\n",
    "# Adjust the units and dropout according to your data\n",
    "model3.add(LSTM(units=50, dropout=0.2, input_shape=(X_time_series_train.shape[1], 1)))\n",
    "\n",
    "# Add Dense layer for binary classification\n",
    "model3.add(Dense(1, activation='sigmoid'))\n",
    "\n",
    "# Compile the model\n",
    "model3.compile(optimizer='adam', loss='binary_crossentropy', metrics=['accuracy'])\n",
    "\n",
    "# Fit the model\n",
    "# Adjust the batch size and epochs according to your data\n",
    "model3.fit([X_time_series_train, X_demographic_train], y_train, validation_data=([X_time_series_val, X_demographic_val], y_val), batch_size=32, epochs=10)"
   ]
  },
  {
   "cell_type": "code",
   "execution_count": 13,
   "metadata": {},
   "outputs": [
    {
     "name": "stdout",
     "output_type": "stream",
     "text": [
      "Epoch 1/10\n"
     ]
    },
    {
     "name": "stderr",
     "output_type": "stream",
     "text": [
      "C:\\Users\\godha\\AppData\\Roaming\\Python\\Python312\\site-packages\\keras\\src\\layers\\rnn\\rnn.py:204: UserWarning: Do not pass an `input_shape`/`input_dim` argument to a layer. When using Sequential models, prefer using an `Input(shape)` object as the first layer in the model instead.\n",
      "  super().__init__(**kwargs)\n"
     ]
    },
    {
     "name": "stdout",
     "output_type": "stream",
     "text": [
      "\u001b[1m563/563\u001b[0m \u001b[32m━━━━━━━━━━━━━━━━━━━━\u001b[0m\u001b[37m\u001b[0m \u001b[1m2s\u001b[0m 2ms/step - accuracy: 0.7580 - loss: 0.5450 - val_accuracy: 0.7817 - val_loss: 0.5249\n",
      "Epoch 2/10\n",
      "\u001b[1m563/563\u001b[0m \u001b[32m━━━━━━━━━━━━━━━━━━━━\u001b[0m\u001b[37m\u001b[0m \u001b[1m1s\u001b[0m 1ms/step - accuracy: 0.7818 - loss: 0.5265 - val_accuracy: 0.7818 - val_loss: 0.5220\n",
      "Epoch 3/10\n",
      "\u001b[1m563/563\u001b[0m \u001b[32m━━━━━━━━━━━━━━━━━━━━\u001b[0m\u001b[37m\u001b[0m \u001b[1m1s\u001b[0m 1ms/step - accuracy: 0.7806 - loss: 0.5271 - val_accuracy: 0.7817 - val_loss: 0.5226\n",
      "Epoch 4/10\n",
      "\u001b[1m563/563\u001b[0m \u001b[32m━━━━━━━━━━━━━━━━━━━━\u001b[0m\u001b[37m\u001b[0m \u001b[1m1s\u001b[0m 1ms/step - accuracy: 0.7865 - loss: 0.5192 - val_accuracy: 0.7818 - val_loss: 0.5196\n",
      "Epoch 5/10\n",
      "\u001b[1m563/563\u001b[0m \u001b[32m━━━━━━━━━━━━━━━━━━━━\u001b[0m\u001b[37m\u001b[0m \u001b[1m1s\u001b[0m 1ms/step - accuracy: 0.7784 - loss: 0.5279 - val_accuracy: 0.7818 - val_loss: 0.5205\n",
      "Epoch 6/10\n",
      "\u001b[1m563/563\u001b[0m \u001b[32m━━━━━━━━━━━━━━━━━━━━\u001b[0m\u001b[37m\u001b[0m \u001b[1m1s\u001b[0m 1ms/step - accuracy: 0.7803 - loss: 0.5258 - val_accuracy: 0.7818 - val_loss: 0.5203\n",
      "Epoch 7/10\n",
      "\u001b[1m563/563\u001b[0m \u001b[32m━━━━━━━━━━━━━━━━━━━━\u001b[0m\u001b[37m\u001b[0m \u001b[1m1s\u001b[0m 1ms/step - accuracy: 0.7784 - loss: 0.5304 - val_accuracy: 0.7818 - val_loss: 0.5203\n",
      "Epoch 8/10\n",
      "\u001b[1m563/563\u001b[0m \u001b[32m━━━━━━━━━━━━━━━━━━━━\u001b[0m\u001b[37m\u001b[0m \u001b[1m1s\u001b[0m 1ms/step - accuracy: 0.7854 - loss: 0.5171 - val_accuracy: 0.7818 - val_loss: 0.5206\n",
      "Epoch 9/10\n",
      "\u001b[1m563/563\u001b[0m \u001b[32m━━━━━━━━━━━━━━━━━━━━\u001b[0m\u001b[37m\u001b[0m \u001b[1m1s\u001b[0m 1ms/step - accuracy: 0.7753 - loss: 0.5289 - val_accuracy: 0.7817 - val_loss: 0.5218\n",
      "Epoch 10/10\n",
      "\u001b[1m563/563\u001b[0m \u001b[32m━━━━━━━━━━━━━━━━━━━━\u001b[0m\u001b[37m\u001b[0m \u001b[1m1s\u001b[0m 1ms/step - accuracy: 0.7792 - loss: 0.5269 - val_accuracy: 0.7820 - val_loss: 0.5200\n"
     ]
    },
    {
     "data": {
      "text/plain": [
       "<keras.src.callbacks.history.History at 0x291f8cc2330>"
      ]
     },
     "execution_count": 13,
     "metadata": {},
     "output_type": "execute_result"
    }
   ],
   "source": [
    "# Define the model: This will be RNN using time-series only...\n",
    "model4 = Sequential()\n",
    "\n",
    "# Add LSTM layer\n",
    "# Adjust the units and dropout according to your data\n",
    "model4.add(SimpleRNN(units=50, dropout=0.2, input_shape=(X_time_series_train.shape[1], 1)))\n",
    "\n",
    "# Add Dense layer for binary classification\n",
    "model4.add(Dense(1, activation='sigmoid'))\n",
    "\n",
    "# Compile the model\n",
    "model4.compile(optimizer='adam', loss='binary_crossentropy', metrics=['accuracy'])\n",
    "\n",
    "# Fit the model\n",
    "# Adjust the batch size and epochs according to your data\n",
    "model4.fit([X_time_series_train, X_demographic_train], y_train, validation_data=([X_time_series_val, X_demographic_val], y_val), batch_size=32, epochs=10)"
   ]
  },
  {
   "cell_type": "code",
   "execution_count": 14,
   "metadata": {},
   "outputs": [],
   "source": [
    "def printInfo(model):\n",
    "    # Evaluate the model on the test set\n",
    "    test_loss, test_accuracy = model.evaluate([X_time_series_test, X_demographic_test], y_test)\n",
    "\n",
    "    # Print the test loss and test accuracy\n",
    "    print(f\"Test Loss: {test_loss}\")\n",
    "    print(f\"Test Accuracy: {test_accuracy}\")\n",
    "\n",
    "    # Use the model to make predictions on the test set\n",
    "    y_pred = model.predict([X_time_series_test, X_demographic_test])\n",
    "\n",
    "    # Print the predictions\n",
    "    print(f\"Predictions: {y_pred}\")\n",
    "\n",
    "\n",
    "    # Get the probabilities\n",
    "    probabilities = model.predict([X_time_series_test, X_demographic_test])\n",
    "\n",
    "    # Apply a threshold to get binary outcomes\n",
    "    y_pred = [1 if prob > 0.5 else 0 for prob in y_pred]\n",
    "\n",
    "    # Initialize a counter for correct predictions\n",
    "    correct_predictions = 0\n",
    "    incorrect_predictions = 0\n",
    "\n",
    "    incorrect_list = []\n",
    "\n",
    "    # Loop over the actual values and predictions\n",
    "    for real, pred in zip(y_test, y_pred):\n",
    "        # If the prediction matches the actual value, increment the counter\n",
    "        if real == pred:\n",
    "            correct_predictions += 1\n",
    "        if real != pred:\n",
    "            incorrect_list.append(real)\n",
    "            incorrect_predictions += 1\n",
    "\n",
    "    # Print the number of correct predictions\n",
    "    print(f\"Number of correct predictions: {correct_predictions} out of {len(y_test)}\")\n",
    "    print(f\"Number of incorrect predictions: {incorrect_predictions}\")\n",
    "    accuracy = correct_predictions / len(y_test)\n",
    "    print(f\"Accuracy: {accuracy}\")\n",
    "\n",
    "    count_zeros = incorrect_list.count(0)\n",
    "    count_ones = incorrect_list.count(1)\n",
    "\n",
    "    print(f\"Number of 0s: {count_zeros}\")\n",
    "    print(f\"Number of 1s: {count_ones}\")\n"
   ]
  },
  {
   "cell_type": "code",
   "execution_count": 15,
   "metadata": {},
   "outputs": [
    {
     "name": "stdout",
     "output_type": "stream",
     "text": [
      "\u001b[1m188/188\u001b[0m \u001b[32m━━━━━━━━━━━━━━━━━━━━\u001b[0m\u001b[37m\u001b[0m \u001b[1m0s\u001b[0m 1ms/step - accuracy: 0.8207 - loss: 0.4486\n",
      "Test Loss: 0.4430676996707916\n",
      "Test Accuracy: 0.8253333568572998\n",
      "\u001b[1m188/188\u001b[0m \u001b[32m━━━━━━━━━━━━━━━━━━━━\u001b[0m\u001b[37m\u001b[0m \u001b[1m0s\u001b[0m 2ms/step\n",
      "Predictions: [[0.53515345]\n",
      " [0.27937952]\n",
      " [0.17346786]\n",
      " ...\n",
      " [0.17432168]\n",
      " [0.69149697]\n",
      " [0.19534239]]\n",
      "\u001b[1m188/188\u001b[0m \u001b[32m━━━━━━━━━━━━━━━━━━━━\u001b[0m\u001b[37m\u001b[0m \u001b[1m0s\u001b[0m 1ms/step\n",
      "Number of correct predictions: 4952 out of 6000\n",
      "Number of incorrect predictions: 1048\n",
      "Accuracy: 0.8253333333333334\n",
      "Number of 0s: 265\n",
      "Number of 1s: 783\n"
     ]
    }
   ],
   "source": [
    "printInfo(model)"
   ]
  },
  {
   "cell_type": "code",
   "execution_count": 16,
   "metadata": {},
   "outputs": [
    {
     "name": "stdout",
     "output_type": "stream",
     "text": [
      "\u001b[1m188/188\u001b[0m \u001b[32m━━━━━━━━━━━━━━━━━━━━\u001b[0m\u001b[37m\u001b[0m \u001b[1m0s\u001b[0m 665us/step - accuracy: 0.7892 - loss: 0.5120\n",
      "Test Loss: 0.5130049586296082\n",
      "Test Accuracy: 0.7873333096504211\n",
      "\u001b[1m188/188\u001b[0m \u001b[32m━━━━━━━━━━━━━━━━━━━━\u001b[0m\u001b[37m\u001b[0m \u001b[1m0s\u001b[0m 1ms/step\n",
      "Predictions: [[0.2063032 ]\n",
      " [0.31742802]\n",
      " [0.2793236 ]\n",
      " ...\n",
      " [0.2904285 ]\n",
      " [0.31742802]\n",
      " [0.2063032 ]]\n",
      "\u001b[1m188/188\u001b[0m \u001b[32m━━━━━━━━━━━━━━━━━━━━\u001b[0m\u001b[37m\u001b[0m \u001b[1m0s\u001b[0m 797us/step\n",
      "Number of correct predictions: 4724 out of 6000\n",
      "Number of incorrect predictions: 1276\n",
      "Accuracy: 0.7873333333333333\n",
      "Number of 0s: 5\n",
      "Number of 1s: 1271\n"
     ]
    }
   ],
   "source": [
    "printInfo(model2)"
   ]
  },
  {
   "cell_type": "code",
   "execution_count": 17,
   "metadata": {},
   "outputs": [
    {
     "name": "stdout",
     "output_type": "stream",
     "text": [
      "\u001b[1m188/188\u001b[0m \u001b[32m━━━━━━━━━━━━━━━━━━━━\u001b[0m\u001b[37m\u001b[0m \u001b[1m0s\u001b[0m 1ms/step - accuracy: 0.8111 - loss: 0.4434\n",
      "Test Loss: 0.4370860159397125\n",
      "Test Accuracy: 0.8159999847412109\n",
      "\u001b[1m188/188\u001b[0m \u001b[32m━━━━━━━━━━━━━━━━━━━━\u001b[0m\u001b[37m\u001b[0m \u001b[1m0s\u001b[0m 2ms/step\n",
      "Predictions: [[0.42893243]\n",
      " [0.23547332]\n",
      " [0.1502518 ]\n",
      " ...\n",
      " [0.11529344]\n",
      " [0.69291925]\n",
      " [0.15759341]]\n",
      "\u001b[1m188/188\u001b[0m \u001b[32m━━━━━━━━━━━━━━━━━━━━\u001b[0m\u001b[37m\u001b[0m \u001b[1m0s\u001b[0m 1ms/step\n",
      "Number of correct predictions: 4896 out of 6000\n",
      "Number of incorrect predictions: 1104\n",
      "Accuracy: 0.816\n",
      "Number of 0s: 118\n",
      "Number of 1s: 986\n"
     ]
    }
   ],
   "source": [
    "printInfo(model3)"
   ]
  },
  {
   "cell_type": "code",
   "execution_count": 18,
   "metadata": {},
   "outputs": [
    {
     "name": "stdout",
     "output_type": "stream",
     "text": [
      "\u001b[1m188/188\u001b[0m \u001b[32m━━━━━━━━━━━━━━━━━━━━\u001b[0m\u001b[37m\u001b[0m \u001b[1m0s\u001b[0m 602us/step - accuracy: 0.7892 - loss: 0.5128\n",
      "Test Loss: 0.5136173367500305\n",
      "Test Accuracy: 0.7873333096504211\n",
      "\u001b[1m188/188\u001b[0m \u001b[32m━━━━━━━━━━━━━━━━━━━━\u001b[0m\u001b[37m\u001b[0m \u001b[1m0s\u001b[0m 1ms/step\n",
      "Predictions: [[0.20396742]\n",
      " [0.27028495]\n",
      " [0.19405328]\n",
      " ...\n",
      " [0.22463068]\n",
      " [0.27028495]\n",
      " [0.20396742]]\n",
      "\u001b[1m188/188\u001b[0m \u001b[32m━━━━━━━━━━━━━━━━━━━━\u001b[0m\u001b[37m\u001b[0m \u001b[1m0s\u001b[0m 782us/step\n",
      "Number of correct predictions: 4724 out of 6000\n",
      "Number of incorrect predictions: 1276\n",
      "Accuracy: 0.7873333333333333\n",
      "Number of 0s: 5\n",
      "Number of 1s: 1271\n"
     ]
    }
   ],
   "source": [
    "printInfo(model4)"
   ]
  },
  {
   "cell_type": "markdown",
   "metadata": {},
   "source": [
    "# Let us try to get a good model based on relevent data only (i.e only time series)\n",
    "\n",
    "Let us try to make the model more \"focused\" Lets have layers that look at the one-to-one relation prior to applying a relation overall datapoints."
   ]
  },
  {
   "cell_type": "code",
   "execution_count": 19,
   "metadata": {},
   "outputs": [
    {
     "name": "stdout",
     "output_type": "stream",
     "text": [
      "Epoch 1/10\n"
     ]
    },
    {
     "name": "stderr",
     "output_type": "stream",
     "text": [
      "C:\\Users\\godha\\AppData\\Roaming\\Python\\Python312\\site-packages\\keras\\src\\layers\\core\\wrapper.py:27: UserWarning: Do not pass an `input_shape`/`input_dim` argument to a layer. When using Sequential models, prefer using an `Input(shape)` object as the first layer in the model instead.\n",
      "  super().__init__(**kwargs)\n"
     ]
    },
    {
     "name": "stdout",
     "output_type": "stream",
     "text": [
      "\u001b[1m563/563\u001b[0m \u001b[32m━━━━━━━━━━━━━━━━━━━━\u001b[0m\u001b[37m\u001b[0m \u001b[1m4s\u001b[0m 4ms/step - accuracy: 0.7760 - loss: 0.4989 - val_accuracy: 0.8052 - val_loss: 0.4539\n",
      "Epoch 2/10\n",
      "\u001b[1m563/563\u001b[0m \u001b[32m━━━━━━━━━━━━━━━━━━━━\u001b[0m\u001b[37m\u001b[0m \u001b[1m2s\u001b[0m 3ms/step - accuracy: 0.7961 - loss: 0.4633 - val_accuracy: 0.8058 - val_loss: 0.4493\n",
      "Epoch 3/10\n",
      "\u001b[1m563/563\u001b[0m \u001b[32m━━━━━━━━━━━━━━━━━━━━\u001b[0m\u001b[37m\u001b[0m \u001b[1m2s\u001b[0m 3ms/step - accuracy: 0.8042 - loss: 0.4557 - val_accuracy: 0.8045 - val_loss: 0.4516\n",
      "Epoch 4/10\n",
      "\u001b[1m563/563\u001b[0m \u001b[32m━━━━━━━━━━━━━━━━━━━━\u001b[0m\u001b[37m\u001b[0m \u001b[1m2s\u001b[0m 3ms/step - accuracy: 0.8056 - loss: 0.4522 - val_accuracy: 0.8070 - val_loss: 0.4482\n",
      "Epoch 5/10\n",
      "\u001b[1m563/563\u001b[0m \u001b[32m━━━━━━━━━━━━━━━━━━━━\u001b[0m\u001b[37m\u001b[0m \u001b[1m2s\u001b[0m 4ms/step - accuracy: 0.7959 - loss: 0.4665 - val_accuracy: 0.8092 - val_loss: 0.4515\n",
      "Epoch 6/10\n",
      "\u001b[1m563/563\u001b[0m \u001b[32m━━━━━━━━━━━━━━━━━━━━\u001b[0m\u001b[37m\u001b[0m \u001b[1m2s\u001b[0m 3ms/step - accuracy: 0.8071 - loss: 0.4523 - val_accuracy: 0.8047 - val_loss: 0.4550\n",
      "Epoch 7/10\n",
      "\u001b[1m563/563\u001b[0m \u001b[32m━━━━━━━━━━━━━━━━━━━━\u001b[0m\u001b[37m\u001b[0m \u001b[1m2s\u001b[0m 3ms/step - accuracy: 0.8040 - loss: 0.4655 - val_accuracy: 0.8102 - val_loss: 0.4461\n",
      "Epoch 8/10\n",
      "\u001b[1m563/563\u001b[0m \u001b[32m━━━━━━━━━━━━━━━━━━━━\u001b[0m\u001b[37m\u001b[0m \u001b[1m2s\u001b[0m 3ms/step - accuracy: 0.8103 - loss: 0.4541 - val_accuracy: 0.8018 - val_loss: 0.4500\n",
      "Epoch 9/10\n",
      "\u001b[1m563/563\u001b[0m \u001b[32m━━━━━━━━━━━━━━━━━━━━\u001b[0m\u001b[37m\u001b[0m \u001b[1m2s\u001b[0m 3ms/step - accuracy: 0.8047 - loss: 0.4644 - val_accuracy: 0.8138 - val_loss: 0.4430\n",
      "Epoch 10/10\n",
      "\u001b[1m563/563\u001b[0m \u001b[32m━━━━━━━━━━━━━━━━━━━━\u001b[0m\u001b[37m\u001b[0m \u001b[1m2s\u001b[0m 3ms/step - accuracy: 0.8111 - loss: 0.4590 - val_accuracy: 0.8140 - val_loss: 0.4456\n"
     ]
    },
    {
     "data": {
      "text/plain": [
       "<keras.src.callbacks.history.History at 0x291f681b1a0>"
      ]
     },
     "execution_count": 19,
     "metadata": {},
     "output_type": "execute_result"
    }
   ],
   "source": [
    "from keras.layers import Bidirectional\n",
    "\n",
    "# Define the model\n",
    "biLSTM = Sequential()\n",
    "\n",
    "# Add Bidirectional LSTM layer\n",
    "# Adjust the units and dropout according to your data\n",
    "biLSTM.add(Bidirectional(LSTM(units=50, dropout=0.2), input_shape=(X_time_series_train.shape[1], 1)))\n",
    "\n",
    "# Add Dense layer for binary classification\n",
    "biLSTM.add(Dense(1, activation='sigmoid'))\n",
    "\n",
    "# Compile the model\n",
    "biLSTM.compile(optimizer='adam', loss='binary_crossentropy', metrics=['accuracy'])\n",
    "\n",
    "# Fit the model\n",
    "# Adjust the batch size and epochs according to your data\n",
    "biLSTM.fit([X_time_series_train], y_train, validation_data=([X_time_series_val], y_val), batch_size=32, epochs=10)\n"
   ]
  },
  {
   "cell_type": "code",
   "execution_count": 20,
   "metadata": {},
   "outputs": [
    {
     "name": "stdout",
     "output_type": "stream",
     "text": [
      "\u001b[1m188/188\u001b[0m \u001b[32m━━━━━━━━━━━━━━━━━━━━\u001b[0m\u001b[37m\u001b[0m \u001b[1m0s\u001b[0m 1ms/step - accuracy: 0.8169 - loss: 0.4408\n",
      "Test Loss: 0.43404459953308105\n",
      "Test Accuracy: 0.8221666812896729\n",
      "\u001b[1m188/188\u001b[0m \u001b[32m━━━━━━━━━━━━━━━━━━━━\u001b[0m\u001b[37m\u001b[0m \u001b[1m1s\u001b[0m 2ms/step\n",
      "Predictions: [[0.56301844]\n",
      " [0.19035079]\n",
      " [0.13164581]\n",
      " ...\n",
      " [0.10835679]\n",
      " [0.7608899 ]\n",
      " [0.17366847]]\n",
      "\u001b[1m188/188\u001b[0m \u001b[32m━━━━━━━━━━━━━━━━━━━━\u001b[0m\u001b[37m\u001b[0m \u001b[1m0s\u001b[0m 1ms/step\n",
      "Number of correct predictions: 4933 out of 6000\n",
      "Number of incorrect predictions: 1067\n",
      "Accuracy: 0.8221666666666667\n",
      "Number of 0s: 183\n",
      "Number of 1s: 884\n"
     ]
    }
   ],
   "source": [
    "printInfo(biLSTM)"
   ]
  },
  {
   "cell_type": "code",
   "execution_count": null,
   "metadata": {},
   "outputs": [],
   "source": []
  }
 ],
 "metadata": {
  "kernelspec": {
   "display_name": ".venv",
   "language": "python",
   "name": "python3"
  },
  "language_info": {
   "codemirror_mode": {
    "name": "ipython",
    "version": 3
   },
   "file_extension": ".py",
   "mimetype": "text/x-python",
   "name": "python",
   "nbconvert_exporter": "python",
   "pygments_lexer": "ipython3",
   "version": "3.12.0"
  }
 },
 "nbformat": 4,
 "nbformat_minor": 2
}
